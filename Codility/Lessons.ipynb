{
 "cells": [
  {
   "cell_type": "markdown",
   "metadata": {
    "heading_collapsed": true
   },
   "source": [
    "# Lesson 1 - Iterations"
   ]
  },
  {
   "cell_type": "markdown",
   "metadata": {
    "heading_collapsed": true,
    "hidden": true
   },
   "source": [
    "## Binary Gap"
   ]
  },
  {
   "cell_type": "code",
   "execution_count": 26,
   "metadata": {
    "collapsed": false,
    "hidden": true
   },
   "outputs": [],
   "source": [
    "# you can write to stdout for debugging purposes, e.g.\n",
    "# print(\"this is a debug message\")\n",
    "\n",
    "def solution(N):\n",
    "    import re\n",
    "    \"\"\"\n",
    "    Return the longest binary gap of the positibe integer N\n",
    "    \"\"\"\n",
    "    # transfrom the integer to binary form\n",
    "    b_repr = \"{0:b}\".format(N)\n",
    "    \n",
    "    # special case handling\n",
    "    # trailing zeros\n",
    "    b_repr = re.findall(r'.*1', b_repr)[0]\n",
    "    \n",
    "    # divide by 1 to find gaps\n",
    "    gaps = b_repr.split(\"1\")\n",
    "    \n",
    "    # find gap with maximum length\n",
    "    return max([len(x) for x in gaps])"
   ]
  },
  {
   "cell_type": "code",
   "execution_count": 27,
   "metadata": {
    "collapsed": true,
    "hidden": true
   },
   "outputs": [],
   "source": [
    "test_cases = {6: 0, 328: 2, 51712:2 , 20:1, 16:0, 1024:0}"
   ]
  },
  {
   "cell_type": "code",
   "execution_count": 28,
   "metadata": {
    "collapsed": false,
    "hidden": true
   },
   "outputs": [
    {
     "name": "stdout",
     "output_type": "stream",
     "text": [
      "All test cases passed\n"
     ]
    }
   ],
   "source": [
    "for N in test_cases:\n",
    "    s = solution(N)\n",
    "    assert s == test_cases[N]\n",
    "print(\"All test cases passed\")"
   ]
  },
  {
   "cell_type": "markdown",
   "metadata": {
    "heading_collapsed": true
   },
   "source": [
    "# Lesson 2 - Arrays"
   ]
  },
  {
   "cell_type": "markdown",
   "metadata": {
    "heading_collapsed": true,
    "hidden": true
   },
   "source": [
    "## OddOccurrencesInArray"
   ]
  },
  {
   "cell_type": "markdown",
   "metadata": {
    "hidden": true
   },
   "source": [
    "注意所有符合條件的 special cases"
   ]
  },
  {
   "cell_type": "code",
   "execution_count": 62,
   "metadata": {
    "collapsed": false,
    "hidden": true
   },
   "outputs": [],
   "source": [
    "def solution(A):\n",
    "    # special case for single element in A\n",
    "    if len(A) == 1: return A[0]\n",
    "    \n",
    "    A = sorted(A)\n",
    "    for x1, x2 in zip(A[0::2], A[1::2]):\n",
    "        if x1 != x2:\n",
    "            return x1\n",
    "    \n",
    "    return A[-1]"
   ]
  },
  {
   "cell_type": "code",
   "execution_count": 60,
   "metadata": {
    "collapsed": false,
    "hidden": true
   },
   "outputs": [],
   "source": [
    "test_cases = [[1, 1, 2, 2, 1000000]]"
   ]
  },
  {
   "cell_type": "markdown",
   "metadata": {
    "heading_collapsed": true,
    "hidden": true
   },
   "source": [
    "## CyclicRotation"
   ]
  },
  {
   "cell_type": "code",
   "execution_count": 65,
   "metadata": {
    "collapsed": false,
    "hidden": true
   },
   "outputs": [
    {
     "data": {
      "text/plain": [
       "[6, 3, 8, 9, 7]"
      ]
     },
     "execution_count": 65,
     "metadata": {},
     "output_type": "execute_result"
    }
   ],
   "source": [
    "def solution(A, K):\n",
    "    # special cases\n",
    "    if len(A) == K or K == 0 or len(set(A)) in [0, 1]:\n",
    "        return A        \n",
    "    # general case\n",
    "    else:\n",
    "        for _ in range(K):\n",
    "            A[0], A[1:] = A[-1], A[:-1]\n",
    "        return A"
   ]
  },
  {
   "cell_type": "markdown",
   "metadata": {
    "heading_collapsed": true
   },
   "source": [
    "# Lesson 3 - Time Complexity"
   ]
  },
  {
   "cell_type": "markdown",
   "metadata": {
    "hidden": true
   },
   "source": [
    "## PermMissingElem"
   ]
  },
  {
   "cell_type": "code",
   "execution_count": 79,
   "metadata": {
    "collapsed": true,
    "hidden": true
   },
   "outputs": [],
   "source": [
    "def solution(A):\n",
    "    A, N = sorted(A), len(A)\n",
    "    \n",
    "    # empty array\n",
    "    if not A: return 1\n",
    "    \n",
    "    for e, n in zip(A, range(1, N + 2)):\n",
    "        # print(e, n)\n",
    "        if e != n: return n\n",
    "    \n",
    "    return N + 1"
   ]
  },
  {
   "cell_type": "markdown",
   "metadata": {
    "hidden": true
   },
   "source": [
    "## TapeEquilibrium\n",
    "在做iteration的時候, 前個iteration能拿來重複使用的部分就先存下來讓下個iter用, 不要每次都從頭開始."
   ]
  },
  {
   "cell_type": "code",
   "execution_count": 4,
   "metadata": {
    "collapsed": false,
    "hidden": true
   },
   "outputs": [],
   "source": [
    "def solution(A):\n",
    "    diffs = []\n",
    "    left, right = 0, 0\n",
    "    \n",
    "    for p in range(1, len(A)):\n",
    "        if p == 1:\n",
    "            left, right = sum(A[:p]), sum(A[p:])\n",
    "        else:\n",
    "            left, right = left + A[p-1], right - A[p-1]\n",
    "        diffs.append(abs(left - right))\n",
    "        # print(left, right)\n",
    "    return min(diffs)"
   ]
  },
  {
   "cell_type": "code",
   "execution_count": 5,
   "metadata": {
    "collapsed": false,
    "hidden": true
   },
   "outputs": [
    {
     "data": {
      "text/plain": [
       "3030"
      ]
     },
     "execution_count": 5,
     "metadata": {},
     "output_type": "execute_result"
    }
   ],
   "source": [
    "solution([i for i in range(10000)])"
   ]
  },
  {
   "cell_type": "markdown",
   "metadata": {
    "hidden": true
   },
   "source": [
    "## FrogJmp"
   ]
  },
  {
   "cell_type": "code",
   "execution_count": 6,
   "metadata": {
    "collapsed": false,
    "hidden": true
   },
   "outputs": [
    {
     "data": {
      "text/plain": [
       "2.5"
      ]
     },
     "execution_count": 6,
     "metadata": {},
     "output_type": "execute_result"
    }
   ],
   "source": [
    "def solution(X, Y, D):\n",
    "    import math\n",
    "    dist = Y - X\n",
    "    if dist == 0: return 0\n",
    "    elif D >= dist: return 1\n",
    "    return math.ceil(dist / D)"
   ]
  },
  {
   "cell_type": "markdown",
   "metadata": {},
   "source": [
    "# Lesson 4 - Counting Elements"
   ]
  },
  {
   "cell_type": "markdown",
   "metadata": {},
   "source": [
    "## PermCheck"
   ]
  },
  {
   "cell_type": "code",
   "execution_count": 13,
   "metadata": {
    "collapsed": true
   },
   "outputs": [],
   "source": [
    "def solution(A):\n",
    "    # basic check\n",
    "    if len(set(A)) != len(A):\n",
    "        return 0\n",
    "    n = len(A)\n",
    "    perfect_sum = n * (n+1) / float(2) # O(1)\n",
    "    real_sum = sum(A) # O(n)\n",
    "    return 1 if perfect_sum == real_sum else 0"
   ]
  },
  {
   "cell_type": "code",
   "execution_count": 14,
   "metadata": {
    "collapsed": false
   },
   "outputs": [],
   "source": [
    "assert solution([2, 2, 2]) == 0"
   ]
  },
  {
   "cell_type": "markdown",
   "metadata": {},
   "source": [
    "## FrogRiverOne\n",
    "在操作一個array的時候, 如果修改該array裡頭某一個element之後, 要針對該array裡頭全部的elements的值依照某些條件做count的時候, 我們可以在一開始就先創一個新變數 count 來記錄符合該條件的elements數, 在修改array的時候順便也更新該變數, 之後要做判斷的時候只要看該變數而不用重新 iterate 整個 array."
   ]
  },
  {
   "cell_type": "code",
   "execution_count": 43,
   "metadata": {
    "collapsed": false
   },
   "outputs": [],
   "source": [
    "def solution(X, A):\n",
    "    pos = [False for _ in range(1, X + 1)]\n",
    "    num_leaves = 0\n",
    "    \n",
    "    for t, x in enumerate(A):\n",
    "        if not pos[x-1]:\n",
    "            pos[x-1] = True\n",
    "            num_leaves +=1\n",
    "        if num_leaves == X:\n",
    "            return t\n",
    "    return -1"
   ]
  },
  {
   "cell_type": "code",
   "execution_count": 45,
   "metadata": {
    "collapsed": false
   },
   "outputs": [
    {
     "data": {
      "text/plain": [
       "-1"
      ]
     },
     "execution_count": 45,
     "metadata": {},
     "output_type": "execute_result"
    }
   ],
   "source": [
    "import numpy as np\n",
    "X = 100000\n",
    "A = list(np.random.randint(1, X + 1, size=X))\n",
    "solution(X, A)"
   ]
  },
  {
   "cell_type": "code",
   "execution_count": 41,
   "metadata": {
    "collapsed": true
   },
   "outputs": [],
   "source": []
  },
  {
   "cell_type": "code",
   "execution_count": 42,
   "metadata": {
    "collapsed": false
   },
   "outputs": [
    {
     "data": {
      "text/plain": [
       "-1"
      ]
     },
     "execution_count": 42,
     "metadata": {},
     "output_type": "execute_result"
    }
   ],
   "source": []
  },
  {
   "cell_type": "markdown",
   "metadata": {},
   "source": [
    "## MissingInteger"
   ]
  },
  {
   "cell_type": "code",
   "execution_count": null,
   "metadata": {
    "collapsed": true
   },
   "outputs": [],
   "source": []
  },
  {
   "cell_type": "markdown",
   "metadata": {},
   "source": [
    "## MaxCounters"
   ]
  },
  {
   "cell_type": "code",
   "execution_count": null,
   "metadata": {
    "collapsed": true
   },
   "outputs": [],
   "source": []
  },
  {
   "cell_type": "code",
   "execution_count": null,
   "metadata": {
    "collapsed": true
   },
   "outputs": [],
   "source": []
  },
  {
   "cell_type": "code",
   "execution_count": null,
   "metadata": {
    "collapsed": true
   },
   "outputs": [],
   "source": []
  },
  {
   "cell_type": "code",
   "execution_count": null,
   "metadata": {
    "collapsed": true
   },
   "outputs": [],
   "source": []
  }
 ],
 "metadata": {
  "kernelspec": {
   "display_name": "Python 3",
   "language": "python",
   "name": "python3"
  },
  "language_info": {
   "codemirror_mode": {
    "name": "ipython",
    "version": 3
   },
   "file_extension": ".py",
   "mimetype": "text/x-python",
   "name": "python",
   "nbconvert_exporter": "python",
   "pygments_lexer": "ipython3",
   "version": "3.5.3"
  },
  "toc": {
   "nav_menu": {},
   "number_sections": false,
   "sideBar": false,
   "skip_h1_title": false,
   "toc_cell": false,
   "toc_position": {},
   "toc_section_display": "block",
   "toc_window_display": true
  },
  "varInspector": {
   "cols": {
    "lenName": 16,
    "lenType": 16,
    "lenVar": 40
   },
   "kernels_config": {
    "python": {
     "delete_cmd_postfix": "",
     "delete_cmd_prefix": "del ",
     "library": "var_list.py",
     "varRefreshCmd": "print(var_dic_list())"
    },
    "r": {
     "delete_cmd_postfix": ") ",
     "delete_cmd_prefix": "rm(",
     "library": "var_list.r",
     "varRefreshCmd": "cat(var_dic_list()) "
    }
   },
   "types_to_exclude": [
    "module",
    "function",
    "builtin_function_or_method",
    "instance",
    "_Feature"
   ],
   "window_display": false
  }
 },
 "nbformat": 4,
 "nbformat_minor": 2
}
